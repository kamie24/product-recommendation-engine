{
 "cells": [
  {
   "cell_type": "markdown",
   "metadata": {},
   "source": [
    "# Investments Clusters <a id='top'></a>\n",
    "\n",
    "## Exploratory Data Analysis (EDA)\n",
    "\n",
    "_Using Python for Data Exploration | Investments Case Study_\n",
    "\n",
    "***\n",
    "\n",
    "## Table of Contents\n",
    "\n",
    "* [Introduction](#intro)\n",
    "* [General Outline](#outline)\n",
    "* [Import Required Libraries](#import)\n",
    "* [Load Data](#load)\n",
    "* [Explore Data - EDA](#eda)\n",
    "    * [Check Data](#check)\n",
    "    * [Explore Numerical Features by Cluster](#num-eda)\n",
    "        * [Create Histograms](#hist)\n",
    "        * [Create Box Plots](#boxplots)\n",
    "        * [Calculate Statistics](#stats)\n",
    "    * [Explore Categorical Features by Cluster](#cat-eda)\n",
    "        * [Create Bi-Variate Count Plots](#multi-countplots)\n",
    "        * [Create Violin Plots](#violin)\n",
    "        * [Create Swarm Plots](#multi-swarm)\n",
    "\n",
    "## Introduction <a id='intro'></a>\n",
    "\n",
    "This EDA will try to reveal patterns, relationships, anomalies and outliers within the dataset. It will support early decision making by providing context around each of the historical products (investments) that were live on the company’s website at some point in time. Here are some leading questions to help us understand how we could possibly classify eventually these investments:\n",
    "\n",
    "* Are there any correlations and distinctions amongst the dataset that make it strong enough to pursue a cluster analysis?\n",
    "* What type of variation occurs within the variables?\n",
    "* What type of covariation occurs between the variables?\n",
    "* Which values are the most common? Why?\n",
    "* Which values are rare? Why?\n",
    "* Can you see any unusual patterns?\n",
    "* What might explain them?\n",
    "* Are there subgroups in the data?\n",
    "* How are the observations within each cluster similar to each other?\n",
    "* How are the observations in separate clusters different from each other?\n",
    "* How can you explain or describe the clusters?\n",
    "* Why might the appearance of clusters be misleading (if possible)?\n",
    "* Are there any data points that don’t seem to fit the pattern, like outliers or anomalies?\n",
    "* Explore the distribution of the real estate KPIs (definitions from the glossary I provided). Is there anything unusual with the distribution of the variables?\n",
    "* Visualize the relationship between the variables (KPIs from the glossary) by showing the density with box plots.\n",
    "* Visualize the relationship between the categorical variables vs numerical ones. Do any patterns in the data exist?\n",
    "* Could any patterns be due to coincidence (i.e. random chance)?\n",
    "* How can you describe the relationship implied by any of the patterns?\n",
    "* How strong is the relationship implied by the pattern?\n",
    "* What other variables might affect the relationship?\n",
    "* Does the relationship change if you look at individual subgroups of the data?\n",
    "\n",
    "## General Outline <a id='outline'></a>\n",
    "\n",
    "1. Load data\n",
    "2. Explore data - EDA\n",
    "    1. Univariate\n",
    "    2. Bivariate\n",
    "    3. Multi-variate\n",
    "\n",
    "## Import Required Libraries <a id='import'></a>"
   ]
  },
  {
   "cell_type": "code",
   "execution_count": null,
   "metadata": {},
   "outputs": [],
   "source": [
    "# Import the required libraries\n",
    "import pandas as pd\n",
    "\n",
    "import matplotlib.pyplot as plt\n",
    "import seaborn as sns\n",
    "import plotly.graph_objects as go\n",
    "\n",
    "import warnings\n",
    "warnings.filterwarnings('ignore')\n",
    "\n",
    "# Increase the width of cells\n",
    "from IPython.core.display import display, HTML\n",
    "display(HTML(\"<style>.container { width:58% !important; }</style>\"))"
   ]
  },
  {
   "cell_type": "markdown",
   "metadata": {},
   "source": [
    "[Go to the top](#top)\n",
    "\n",
    "## Load Data <a id='load'></a>\n",
    "\n",
    "Read the dataset and load it into a Pandas dataframe."
   ]
  },
  {
   "cell_type": "code",
   "execution_count": null,
   "metadata": {
    "scrolled": false
   },
   "outputs": [],
   "source": [
    "pd.set_option('display.max_rows', 100)\n",
    "\n",
    "# Read data.\n",
    "df = pd.read_csv('k-means-clusters.csv')\n",
    "\n",
    "# Show first rows.\n",
    "df.head(2)"
   ]
  },
  {
   "cell_type": "markdown",
   "metadata": {},
   "source": [
    "[Go to the top](#top)\n",
    "\n",
    "##  Explore Data - EDA <a id='eda'></a>\n",
    "\n",
    "The Exploratory Data Analysis or EDA include the following steps:\n",
    "\n",
    "* Review the available data and select specific variables of interest.\n",
    "* Check the quality of data.\n",
    "* Check for imbalances and create charts.\n",
    "* Identify opportunities, if any, to recode current variables or create new ones combining variables into a single measure.\n",
    "\n",
    "### Check Data <a id='check'></a>\n",
    "\n",
    "The dataframe will be examined for the quality of the data. The types and shape of the data will be checked, as well as if there are any missing or duplicated records."
   ]
  },
  {
   "cell_type": "code",
   "execution_count": null,
   "metadata": {
    "scrolled": false
   },
   "outputs": [],
   "source": [
    "# Create a function to check the data.\n",
    "def check_data(df): \n",
    "    obs = df.shape[0]\n",
    "    types = df.dtypes\n",
    "    counts = df.apply(lambda x: x.count())\n",
    "    uniques = df.apply(lambda x: [x.unique()]).T.squeeze()\n",
    "    duplicates = df.duplicated().sum()\n",
    "    nulls = df.apply(lambda x: x.isnull().sum())\n",
    "    distincts = df.apply(lambda x: x.unique().shape[0])\n",
    "    missing_ratio = round((df.isnull().sum()/ obs) * 100, 2)\n",
    "    skewness = df.skew()\n",
    "    kurtosis = df.kurt() \n",
    "    print('Data shape: ', df.shape)\n",
    "    print('Duplicates: ', duplicates)\n",
    "    frame = {'types': types, 'counts': counts, 'uniques': uniques, 'nulls': nulls, 'distincts': distincts,\n",
    "             'missing_ratio': missing_ratio, 'skewness': skewness, 'kurtosis': kurtosis}\n",
    "    checks = pd.DataFrame(frame)\n",
    "    display(checks)\n",
    "    display(df.describe().T)\n",
    "\n",
    "check_data(df)"
   ]
  },
  {
   "cell_type": "markdown",
   "metadata": {},
   "source": [
    "**Inference**\n",
    "\n",
    "* We see a detailed information for each variable, such as descriptive statistics, number of missing values, distinct valus, etc.\n",
    "\n",
    "[Go to the top](#top)\n",
    "\n",
    "### Explore Numerical Features by Cluster <a id='num-eda'></a>\n",
    "\n",
    "#### Create Histograms <a id='hist'></a>\n",
    "\n",
    "Plot histograms."
   ]
  },
  {
   "cell_type": "code",
   "execution_count": null,
   "metadata": {
    "scrolled": false
   },
   "outputs": [],
   "source": [
    "# Select numerical features\n",
    "df_num = df.select_dtypes(include=['int64', 'float64'])\n",
    "\n",
    "# Set style\n",
    "sns.set_style(\"whitegrid\")\n",
    "\n",
    "# Plot histograms\n",
    "count=1\n",
    "plt.subplots(figsize=(18, 30))\n",
    "for col in df_num.columns:\n",
    "    plt.subplot(8, 3, count)\n",
    "    sns.histplot(data=df, x=col, hue=\"Cluster\",\n",
    "                 fill=True, common_norm=False, palette=\"Set3\",\n",
    "                 alpha=.7, linewidth=0)\n",
    "    count+=1\n",
    "plt.tight_layout(pad=1.4)\n",
    "plt.show()"
   ]
  },
  {
   "cell_type": "markdown",
   "metadata": {},
   "source": [
    "**Inference**\n",
    "\n",
    "* We can observe separation for some variables - for example for \"EM Last \\$ Exposure @ Closing_x\"\n",
    "\n",
    "[Go to the top](#top)\n",
    "\n",
    "#### Create Box Plots <a id='boxplots'></a>\n",
    "\n",
    "Box plots allow us to view the distribution of a parameter within bins. It's useful to see outliers too."
   ]
  },
  {
   "cell_type": "code",
   "execution_count": null,
   "metadata": {},
   "outputs": [],
   "source": [
    "# Plot box plots\n",
    "count=1\n",
    "plt.subplots(figsize=(18, 30))\n",
    "for col in df_num.columns:\n",
    "    plt.subplot(5, 3, count)\n",
    "    sns.boxplot(data=df, x='Cluster', y=col, palette='Set3')\n",
    "    count+=1\n",
    "plt.tight_layout(pad=1.4)\n",
    "plt.show()"
   ]
  },
  {
   "cell_type": "markdown",
   "metadata": {},
   "source": [
    "**Inference**\n",
    "\n",
    "* Now, we can observe better the distributions of each numerical feature by each cluster.\n",
    "* For instance, it seems that Cluster 0 has higher \"capital_request\" and \"maximum_investment_amount\".\n",
    "\n",
    "[Go to the top](#top)\n",
    "\n",
    "#### Calculate Statistics <a id='stats'></a>\n",
    "\n",
    "Compute descriptive statistics by each cluster."
   ]
  },
  {
   "cell_type": "code",
   "execution_count": null,
   "metadata": {
    "scrolled": false
   },
   "outputs": [],
   "source": [
    "pd.set_option('display.max_rows', 500)\n",
    "\n",
    "# Show descriptive stats for each cluster\n",
    "stats = df.iloc[:, 1:].groupby(by=['Cluster']).describe(include='all').T\n",
    "stats = stats.reset_index()\n",
    "stats.rename(columns={\"level_0\": \"Feature\", \"level_1\": \"Stats\",\n",
    "                      0: \"Cluster_0\", 1: \"Cluster_1\",\n",
    "                      2: \"Cluster_2\", 3: \"Cluster_3\"}, inplace=True)\n",
    "\n",
    "fig = go.Figure(data=[go.Table(\n",
    "    header=dict(values=list(stats.columns),\n",
    "                fill_color='paleturquoise',\n",
    "                align='left'),\n",
    "    cells=dict(values=[stats.Feature, stats.Stats, stats.Cluster_0, stats.Cluster_1,\n",
    "                       stats.Cluster_2, stats.Cluster_3],\n",
    "               fill_color='lavender',\n",
    "               align='left'))\n",
    "])\n",
    "\n",
    "fig.show()"
   ]
  },
  {
   "cell_type": "markdown",
   "metadata": {},
   "source": [
    "[Go to the top](#top)\n",
    "\n",
    "### Explore Categorical Features by Cluster <a id='cat-eda'></a>\n",
    "\n",
    "#### Create Bi-Variate Count Plots <a id='multi-countplots'></a>\n",
    "\n",
    "Show value counts by cluster."
   ]
  },
  {
   "cell_type": "code",
   "execution_count": null,
   "metadata": {
    "scrolled": false
   },
   "outputs": [],
   "source": [
    "# Select categorical columns\n",
    "categorical = df.select_dtypes(include='object')\n",
    "categorical.pop('id')\n",
    "\n",
    "count=1\n",
    "plt.subplots(figsize=(18, 55))\n",
    "for col in categorical.columns:\n",
    "    plt.subplot(8, 2, count)\n",
    "    sns.countplot(y=col, hue='Cluster', palette=\"Set3\", data=df,\n",
    "                  order=df[col].value_counts().index, dodge=True)\n",
    "    plt.legend(loc='lower right')\n",
    "    count+=1\n",
    "plt.tight_layout(pad=1.4)\n",
    "plt.show()"
   ]
  },
  {
   "cell_type": "markdown",
   "metadata": {},
   "source": [
    "**Inference**\n",
    "\n",
    "* We can easily see the most common values for each cluster.\n",
    "* For example, stabilized return on cost is observed only for cluster 1.\n",
    "\n",
    "[Go to the top](#top)\n",
    "\n",
    "#### Create Violin Plots <a id='violin'></a>\n",
    "\n",
    "Draw categorical scatterplots with non-overlapping points."
   ]
  },
  {
   "cell_type": "code",
   "execution_count": null,
   "metadata": {
    "scrolled": false
   },
   "outputs": [],
   "source": [
    "for num in ['capital_request', 'maximum_investment_amount', 'minimum_investment_amount']:\n",
    "    count=1\n",
    "    plt.subplots(figsize=(18, 30))\n",
    "    for col in ['entity_type', 'investment_strategy', 'subtype']:\n",
    "        plt.subplot(3, 3, count)\n",
    "        sns.violinplot(x=num, y=col, hue='Cluster', palette=\"Set3\", data=df)\n",
    "        count+=1\n",
    "    plt.tight_layout(pad=1.4)\n",
    "    plt.show()"
   ]
  },
  {
   "cell_type": "markdown",
   "metadata": {},
   "source": [
    "**Inference**\n",
    "\n",
    "* We can see the distributions by each cluster.\n",
    "\n",
    "[Go to the top](#top)\n",
    "\n",
    "#### Create Swarm Plots <a id='multi-swarm'></a>\n",
    "\n",
    "Let's dive into more detail of the capital request, drawing swarm plots for two categorical variables."
   ]
  },
  {
   "cell_type": "code",
   "execution_count": null,
   "metadata": {
    "scrolled": false
   },
   "outputs": [],
   "source": [
    "plt.figure(figsize=(9, 5))\n",
    "sns.swarmplot(x='entity_type', y='capital_request', hue='Cluster', palette=\"Set2\", data=df, dodge=True);"
   ]
  },
  {
   "cell_type": "markdown",
   "metadata": {},
   "source": [
    "**Inference**\n",
    "\n",
    "* Not many data for individuals.\n",
    "\n",
    "[Go to the top](#top)"
   ]
  }
 ],
 "metadata": {
  "kernelspec": {
   "display_name": "Python 3",
   "language": "python",
   "name": "python3"
  },
  "language_info": {
   "codemirror_mode": {
    "name": "ipython",
    "version": 3
   },
   "file_extension": ".py",
   "mimetype": "text/x-python",
   "name": "python",
   "nbconvert_exporter": "python",
   "pygments_lexer": "ipython3",
   "version": "3.8.5"
  }
 },
 "nbformat": 4,
 "nbformat_minor": 2
}
