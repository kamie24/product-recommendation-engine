{
 "cells": [
  {
   "cell_type": "markdown",
   "metadata": {},
   "source": [
    "# Investments <a id='top'></a>\n",
    "\n",
    "## Clustering\n",
    "\n",
    "_Using ML Models as Clustering Methods | Segmentation/Profiling & Classification Case Studies_\n",
    "\n",
    "***\n",
    "\n",
    "## Table of Contents\n",
    "\n",
    "* [Introduction](#intro)\n",
    "* [General Outline](#outline)\n",
    "* [Import Required Libraries](#import)\n",
    "* [Load Data](#load)\n",
    "* [Explore Data - EDA](#eda)\n",
    "    * [Check Data](#check)\n",
    "    * [Select Features](#select)\n",
    "* [Clustering](#clustering)\n",
    "    * [Select Segmentation Variables](#select-segments)\n",
    "    * [Method and Number of Segments](#method)\n",
    "    * [Prepare Data](#prepare)\n",
    "        * [UMAP Embedding](#umap)\n",
    "        * [Compute the Hopkins Statistics](#h-stat)\n",
    "    * [Apply K-Means Clustering](#k-means)\n",
    "        * [The Elbow Method](#elbow)\n",
    "        * [Fit K-Means with Optimal Clusters](#fit-kmeans)\n",
    "        * [Confirm the Optimal Clusters with Hierarchical Clustering](#clusters)\n",
    "    * [Apply K-Medoids Clustering](#k-medoids)\n",
    "        * [Fit K-Medoids with Optimal Clusters](#fit-kmedoids)\n",
    "    * [Apply K-Prototypes Clustering](#k-prot)\n",
    "        * [Fit K-Prototypes with Optimal Clusters](#fit-kprot)\n",
    "    * [Compare the Methods Visually](#compare)\n",
    "        * [Check Visually K-Means](#check-vis-kmeans)\n",
    "        * [Check Visually K-Medoids](#check-vis-kmedoids)\n",
    "        * [Check Visually K-Prototypes](#check-vis-kprot)\n",
    "* [Classify & Evaluate Clusters](#classify)\n",
    "    * [Classify & Evaluate K-Means Clusters](#classify-kmeans)\n",
    "        * [Check Feature Importances for K-Means Clusters](#kmeans-importances)\n",
    "    * [Classify & Evaluate K-Medoids Clusters](#classify-kmedoids)\n",
    "        * [Check Feature Importances for K-Medoids Clusters](#kmedoids-importances)\n",
    "    * [Classify & Evaluate K-Prototypes Clusters](#classify-kprot)\n",
    "        * [Check Feature Importances for K-Prototypes Clusters](#kprot-importances)\n",
    "* [Group Customers](#segmentation)\n",
    "    * [K-Means Clusters](#k-means-clusters)\n",
    "    * [Export K-Means Clusters](#export-k-means)\n",
    "    * [EDA of K-Means Clusters](#eda-k-means)\n",
    "\n",
    "## Introduction <a id='intro'></a>\n",
    "\n",
    "In Data Analytics we often have very large data, which are however similar to each other. Therefore, we may want to organize them in a few clusters with similar observations within each cluster. For example, in the case of customer data, even though we may have data from millions of customers, these customers may only belong to a few segments: customers are similar within each segment but different across segments. We may often want to analyze each segment separately, as they may behave differently (e.g. different market segments may have different product preferences and behavioral patterns).\n",
    "\n",
    "In such situations, to identify segments in the data we can use a statistical technique called **Clustering**. Clustering is used to group data/observations in a few segments so that data within any segment are similar while data across segments are different. Defining what we mean when we say “similar” or “different” observations is a key part of cluster analysis which often requires a lot of contextual knowledge and creativity beyond what statistical tools can provide.\n",
    "\n",
    "Cluster analysis is used in a variety of applications. For example it can be used to identify consumer segments, or competitive sets of products, or groups of assets whose prices co-move, or for geo-demographic segmentation, etc. In general it is often necessary to split our data into segments and perform any subsequent analysis within each segment in order to develop (potentially more refined) segment-specific insights. This may be the case even if there are no intuitively “natural” segments in our data.\n",
    "\n",
    "## General Outline <a id='outline'></a>\n",
    "\n",
    "In this study a dataset of about 140 records will be investigated:\n",
    "\n",
    "1. Load data\n",
    "2. Explore data\n",
    "3. Clean and preprocess data\n",
    "4. Cluster data\n",
    "5. Evaluate clusters\n",
    "6. Classify\n",
    "\n",
    "## Import Required Libraries <a id='import'></a>"
   ]
  },
  {
   "cell_type": "code",
   "execution_count": null,
   "metadata": {},
   "outputs": [],
   "source": [
    "# Import the required libraries.\n",
    "import pandas as pd\n",
    "import numpy as np\n",
    "from random import sample\n",
    "from numpy.random import uniform\n",
    "from math import isnan\n",
    "\n",
    "import matplotlib.pyplot as plt\n",
    "import seaborn as sns\n",
    "import plotly.graph_objects as go\n",
    "import plotly.express as px\n",
    "from plotly.subplots import make_subplots\n",
    "import plotly.io as pio\n",
    "\n",
    "from sklearn.preprocessing import PowerTransformer\n",
    "from sklearn.neighbors import NearestNeighbors\n",
    "from sklearn.cluster import KMeans\n",
    "from sklearn_extra.cluster import KMedoids\n",
    "from sklearn.model_selection import cross_val_score\n",
    "\n",
    "from yellowbrick.cluster.elbow import kelbow_visualizer\n",
    "\n",
    "import umap\n",
    "\n",
    "import scipy.cluster.hierarchy as sch\n",
    "\n",
    "from kmodes.kprototypes import KPrototypes\n",
    "\n",
    "from lightgbm import LGBMClassifier\n",
    "\n",
    "import shap\n",
    "\n",
    "from tqdm import tqdm\n",
    "\n",
    "import warnings\n",
    "warnings.filterwarnings('ignore')\n",
    "\n",
    "# Set Plotly theme.\n",
    "pio.templates.default = \"gridon\"\n",
    "\n",
    "# Set global variables.\n",
    "RANDOM_STATE = 5 # set a seed so as to have reproducibility in the analysis.\n",
    "\n",
    "%matplotlib inline"
   ]
  },
  {
   "cell_type": "markdown",
   "metadata": {},
   "source": [
    "[Go to the top](#top)\n",
    "\n",
    "## Load Data <a id='load'></a>\n",
    "\n",
    "Read the dataset from CSV and load it into a Pandas dataframe."
   ]
  },
  {
   "cell_type": "code",
   "execution_count": null,
   "metadata": {},
   "outputs": [],
   "source": [
    "# Read data.\n",
    "df = pd.read_excel('deal_classification_dataset_for_cluster.xlsx')\n",
    "\n",
    "# Show first rows.\n",
    "df.head(2)"
   ]
  },
  {
   "cell_type": "markdown",
   "metadata": {},
   "source": [
    "[Go to the top](#top)\n",
    "\n",
    "##  Explore Data - EDA <a id='eda'></a>\n",
    "\n",
    "The Exploratory Data Analysis or EDA include the following steps:\n",
    "\n",
    "* Review the available data and select specific variables of interest.\n",
    "* Check the quality of data.\n",
    "\n",
    "### Check Data <a id='check'></a>\n",
    "\n",
    "The dataframe will be examined for the quality of the data. The types and shape of the data will be checked, as well as if there are any missing or duplicated records."
   ]
  },
  {
   "cell_type": "code",
   "execution_count": null,
   "metadata": {
    "scrolled": false
   },
   "outputs": [],
   "source": [
    "# Create a function to check the data.\n",
    "def check_data(df): \n",
    "    obs = df.shape[0]\n",
    "    types = df.dtypes\n",
    "    counts = df.apply(lambda x: x.count())\n",
    "    uniques = df.apply(lambda x: [x.unique()]).T.squeeze()\n",
    "    duplicates = df.duplicated().sum()\n",
    "    nulls = df.apply(lambda x: x.isnull().sum())\n",
    "    distincts = df.apply(lambda x: x.unique().shape[0])\n",
    "    missing_ratio = round((df.isnull().sum()/ obs) * 100, 2)\n",
    "    skewness = df.skew()\n",
    "    kurtosis = df.kurt() \n",
    "    print('Data shape: ', df.shape)\n",
    "    print('Duplicates: ', duplicates)\n",
    "    frame = {'types': types, 'counts': counts, 'uniques': uniques, 'nulls': nulls, 'distincts': distincts,\n",
    "             'missing_ratio': missing_ratio, 'skewness': skewness, 'kurtosis': kurtosis}\n",
    "    checks = pd.DataFrame(frame)\n",
    "    display(checks)\n",
    "    display(df.describe())\n",
    "\n",
    "check_data(df)"
   ]
  },
  {
   "cell_type": "markdown",
   "metadata": {},
   "source": [
    "[Go to the top](#top)\n",
    "\n",
    "### Select Features <a id='select'></a>\n",
    "\n",
    "Select and group the features to:\n",
    "\n",
    "* Profile (demographic/behavioural) attributes and\n",
    "* Segmentation attributes"
   ]
  },
  {
   "cell_type": "code",
   "execution_count": null,
   "metadata": {},
   "outputs": [],
   "source": [
    "# Select columns\n",
    "df = df[['id', 'asset_type', 'offering_type', 'annual_return_label',\n",
    "         'capital_request', 'deal_size', 'em_asset_manager', 'entity_type',\n",
    "         'investment_increment', 'investment_strategy', 'maximum_investment_amount',\n",
    "         'minimum_investment_amount', 'offering_approach', 'offering_strategy', 'project_stage',\n",
    "         'restricted_to', 'subtype', 'term_period', 'type',\n",
    "         'unit_cost', 'Investment Status', 'Stage', 'Investment Type_x',\n",
    "         'SeniorDebt_x', 'Equity_x', 'TotalCapitalization_x', 'EMInvestment_x',\n",
    "         'Deal Leverage % @ Closing_x', 'EM Last $ Exposure @ Closing_x',\n",
    "         'Gross Return Multiple', 'eFront Dist Freq'\n",
    "        ]]\n",
    "\n",
    "# Select the numerical features\n",
    "numeric = df.select_dtypes(exclude='object').columns.tolist()\n",
    "\n",
    "# Select the categorical features\n",
    "cat_feats = [ele for ele in df.columns if ele not in numeric]\n",
    "cat_feats.remove('id')\n",
    "\n",
    "# Fill numeric missing values with mean\n",
    "df[numeric] = df[numeric].fillna(value=df[numeric].mean())\n",
    "\n",
    "# Fill NaNs with 'Unknown'.\n",
    "df.fillna('Unknown', inplace = True)"
   ]
  },
  {
   "cell_type": "markdown",
   "metadata": {},
   "source": [
    "[Go to the top](#top)\n",
    "\n",
    "\n",
    "## Clustering <a id='clustering'></a>\n",
    "\n",
    "### Select Segmentation Variables <a id='select-segments'></a>\n",
    "\n",
    "Customer segmentation is the process of dividing an organization’s customer bases into different sections based on various customer attributes. The process of customer segmentation is based on the premise of finding differences among the customers’ behavior and patterns.\n",
    "\n",
    "The major objectives and benefits behind the motivation for customer segmentation are:\n",
    "\n",
    "* Increase revenue\n",
    "* Target marketing\n",
    "* Understand the customer\n",
    "* Find latent customer segments, i.e. find out which segment of customers it might be missing and apply new marketing campaigns.\n",
    "* Optimal product placement, so as to develop a strategy that can offer new products or a bundle of products together as a combined offering.\n",
    "\n",
    "Clustering:\n",
    "\n",
    "Common methods to perform customer segmentation are the unsupervised ML methods like clustering. The method is as simple as collecting as much data about the customers as possible in the form of features or attributes and then finding out the different clusters that can be obtained from that data.\n",
    "\n",
    "The decision about which variables to use for clustering is a critically important decision that will have a big impact on the clustering solution. Thus, we need to think carefully about the variables we will choose for clustering. Good exploratory research that gives us a good sense of what variables may distinguish people or products or assets or regions is critical. Clearly, this is a step where a lot of contextual knowledge, creativity, and experimentation / iterations are needed.\n",
    "\n",
    "Moreover, we often use only a few of the data attributes for segmentation (the segmentation attributes) and use some of the remaining ones (the profiling attributes) only to profile the clusters. For example, in market research and market segmentation, one may use attitudinal data for segmentation (to segment the customers based on their needs and attitudes towards the products / services) and then demographic and behavioral data for profiling the segments found.\n",
    "\n",
    "### Method and Number of Segments <a id='method'></a>\n",
    "\n",
    "There are many statistical methods for clustering and segmentation. In this study, we will use 3 widely used methods: the **K-Means** or **K-Medoids** clustering method, the **Hierarchical Clustering** method, and the **K-Prototypes** method. K-Means and K-Prototypes methods require the user to define how many segments to create, while Hierarchical Clustering does not.\n",
    "\n",
    "Since we do not know for now how many segments there are in our data, we can use the Hierarchial Clustering as an evaluation method. Hierarchical clustering is a method that also helps us visualise how the data may be clustered together. It generates a plot called the **Dendrogram**, which is helpful for visualization.\n",
    "\n",
    "The Dendrogram indicates how this clustering method works: observations are “grouped together”, starting from pairs of individual observations which are the closest to each other, and merging smaller groups into larger ones depending on which groups are closest to each other. Eventually all the data are merged into one segment. The heights of the branches of the tree indicate how different the clusters merged at that level of the tree are. Longer lines indicate that the clusters below are very different. As expected, the heights of the tree branches increase as we traverse the tree from the end leaves to the tree root: the method merges data points/groups from the closest ones to the furthest ones.\n",
    "\n",
    "Some of the methods that are used to evaluate the optimal number of clusters are:\n",
    "\n",
    "* **Elbow Method**\n",
    "* **Hierarchical Clustering**\n",
    "* **Silhouette Coefficient & Silhouette Analysis Charts**\n",
    "* **UMAP Embedding**\n",
    "* Evaluate the clusters fitting a **Classification Algorithm**\n",
    "\n",
    "### Prepare Data <a id='prepare'></a>\n",
    "\n",
    "Our dataset is a mix of numerical and categorical data. The standard K-Means algorithm isn't directly applicable to categorical data, for various reasons. The sample space for categorical data is discrete, and doesn't have a natural origin. A Euclidean distance function on such a space isn't really meaningful.\n",
    "\n",
    "There's a variation of K-Means known as **K-Modes**, introduced by Zhexue Huang, which is suitable for categorical data. Huang's paper has also a section on **K-Prototypes**, which applies to data with a mix of categorical and numerical features. K-Prototypes offers the advantage of workign with mixed data types. It measures distance between numerical features using **Euclidean distance** (like K-Means), but also measure the distance between categorical features using the **Hamming distance**.\n",
    "\n",
    "#### UMAP Embedding <a id='umap'></a>\n",
    "\n",
    "One of the evaluation methods is visual using the **Uniform Manifold Approximation and Projection for Dimension Reduction (UMAP)** method - a dimensionality reduction technique (like PCA or t-SNE) - to embedd the data into 2 dimensions. This allows to see the groups of customers and how well did the clustering algorithms do the job. There are 3 steps to get the proper embeddings:\n",
    "\n",
    "* **Yeo-Johnson** transformation of the numerical columns & **One-Hot-Encode** of the categorical features. The Yeo-Johnson method is a useful data transformation technique used to stabilize variance, make the data more normal distribution-like, improve the validity of measures of association such as the Pearson correlation between variables and for other data stabilization procedures.\n",
    "* Embed these two columns types separately.\n",
    "* Combine the two by conditioning the numerical embeddings on the categorical embeddings."
   ]
  },
  {
   "cell_type": "code",
   "execution_count": null,
   "metadata": {},
   "outputs": [],
   "source": [
    "# Set index.\n",
    "df.set_index('id', inplace=True)\n",
    "\n",
    "# Preprocess numerical.\n",
    "numerical = df.select_dtypes(exclude='object')\n",
    "\n",
    "for c in numerical.columns:\n",
    "    pt = PowerTransformer()\n",
    "    numerical.loc[:, c] = pt.fit_transform(np.array(numerical[c]).reshape(-1, 1))\n",
    "    \n",
    "# Preprocess categorical.\n",
    "categorical = df.select_dtypes(include='object')\n",
    "categorical = pd.get_dummies(categorical)\n",
    "\n",
    "# Use percentage of columns, which are categorical as a weight parameter in embeddings later.\n",
    "categorical_weight = len(df.select_dtypes(include='object').columns) / df.shape[1]\n",
    "\n",
    "# Embed numerical & categorical.\n",
    "fit1 = umap.UMAP(metric='l2', random_state=RANDOM_STATE).fit(numerical)\n",
    "fit2 = umap.UMAP(metric='dice', random_state=RANDOM_STATE).fit(categorical)\n",
    "\n",
    "# See the categorical_weight.\n",
    "categorical_weight"
   ]
  },
  {
   "cell_type": "code",
   "execution_count": null,
   "metadata": {},
   "outputs": [],
   "source": [
    "# Augment the numerical embedding with categorical.\n",
    "intersection = umap.umap_.general_simplicial_set_intersection(fit1.graph_, fit2.graph_, weight=categorical_weight)\n",
    "intersection = umap.umap_.reset_local_connectivity(intersection)\n",
    "embedding = umap.umap_.simplicial_set_embedding(fit1._raw_data, intersection, fit1.n_components, \n",
    "                                                fit1._initial_alpha, fit1._a, fit1._b, \n",
    "                                                fit1.repulsion_strength, fit1.negative_sample_rate, \n",
    "                                                200, 'random', np.random, fit1.metric, \n",
    "                                                fit1._metric_kwds, True)\n",
    "\n",
    "# Plot.\n",
    "fig = px.scatter(x=embedding.T[0], y=embedding.T[1], opacity=0.5)\n",
    "fig.show()"
   ]
  },
  {
   "cell_type": "markdown",
   "metadata": {},
   "source": [
    "**Inference**\n",
    "\n",
    "* We can see groups of data, but we will find out the actual number of custers using other methods.\n",
    "\n",
    "[Go to the top](#top)\n",
    "\n",
    "### Compute the Hopkins Statistics <a id='h-stat'></a>\n",
    "\n",
    "To find if the dataset can be clustered, we can use the **Hopkins Statistic**, which tests the spatial randomness of the data and indicates the cluster tendency or how well the data can be clustered. It calculates the probability that a given data is generated by a uniform distribution. The inference is as follows for a data of dimensions 'd':\n",
    "\n",
    "* If the value is around 0.5 or lesser, the data is uniformly distributed and hence it is unlikely to have statistically significant clusters.\n",
    "* If the value is between {0.7, ..., 0.99}, there is a high tendency to cluster and therefore likely to have statistically significant clusters."
   ]
  },
  {
   "cell_type": "code",
   "execution_count": null,
   "metadata": {},
   "outputs": [],
   "source": [
    "# Create a function to compute Hopkins Statistic as a way of measuring the cluster tendency of a data set.\n",
    "def compute_hopkins(X):\n",
    "    d = X.shape[1]\n",
    "    n = len(X)\n",
    "    m = int(0.1 * n) # heuristic\n",
    "    nbrs = NearestNeighbors(n_neighbors=1).fit(X.values)\n",
    " \n",
    "    rand_X = sample(range(0, n, 1), m)\n",
    " \n",
    "    ujd = []\n",
    "    wjd = []\n",
    "    for j in range(0, m):\n",
    "        u_dist, _ = nbrs.kneighbors(uniform(np.amin(X,axis=0),\n",
    "                                            np.amax(X,axis=0),d).reshape(1, -1), 2,\n",
    "                                    return_distance=True)\n",
    "        ujd.append(u_dist[0][1])\n",
    "        w_dist, _ = nbrs.kneighbors(X.iloc[rand_X[j]].values.reshape(1, -1), 2,\n",
    "                                    return_distance=True)\n",
    "        wjd.append(w_dist[0][1])\n",
    " \n",
    "    H = sum(ujd) / (sum(ujd) + sum(wjd))\n",
    "    if isnan(H):\n",
    "        print(ujd, wjd)\n",
    "        H = 0\n",
    " \n",
    "    return H"
   ]
  },
  {
   "cell_type": "code",
   "execution_count": null,
   "metadata": {},
   "outputs": [],
   "source": [
    "# Check whether data can be clustered. It can be applied only on numerical features.\n",
    "compute_hopkins(numerical)"
   ]
  },
  {
   "cell_type": "markdown",
   "metadata": {},
   "source": [
    "**Inference**\n",
    "\n",
    "* Running the test on all the numerical variables of the entire dataset, we get a very high h-statistic, which indicates that data have a high tendency to cluster - at least the numerical features.\n",
    "* Now, let's begin actual modelling with K-Means, K-Medoids, and K-Prototypes. There are also other models like DBSCAN Clustering, but this works only with numerical variables by aggregation depending on density of points near the chosen centroids.\n",
    "\n",
    "[Go to the top](#top)\n",
    "\n",
    "### Apply K-Means Clustering <a id='k-means'></a>\n",
    "\n",
    "Because K-Means only works with numerical data, we need to:\n",
    "\n",
    "* One-Hot-Encode the categorical data.\n",
    "* Apply the Yeo-Johnson transformation to make numerical features it more Gaussian like.\n",
    "* Fit K-means and use the Elbow Method to find the optimal number of clusters.\n",
    "\n",
    "#### The Elbow Method <a id='elbow'></a>\n",
    "\n",
    "This is a technique that is used to help us find the optimal number of clusters. This method looks at the percentage of variance explained as a function of the number of clusters: One should choose a number of clusters so that adding another cluster doesn't give much better modeling of the data. More precisely, if one plots the percentage of variance explained by the clusters against the number of clusters, the first clusters will add much information (explain a lot of variance), but at some point the marginal gain will drop, giving an angle in the graph. The number of clusters is chosen at this point, hence the \"elbow criterion\". This \"elbow\" cannot always be unambiguously identified."
   ]
  },
  {
   "cell_type": "code",
   "execution_count": null,
   "metadata": {},
   "outputs": [],
   "source": [
    "# One-Hot-Encode.\n",
    "data = pd.get_dummies(df)\n",
    "\n",
    "# Yeo-Johnson transform.\n",
    "for c in data.columns:\n",
    "    pt = PowerTransformer()\n",
    "    data.loc[:, c] = pt.fit_transform(np.array(data[c]).reshape(-1, 1))"
   ]
  },
  {
   "cell_type": "code",
   "execution_count": null,
   "metadata": {},
   "outputs": [],
   "source": [
    "# Apply the elbow method to find the optimal number of clusters.\n",
    "kelbow_visualizer(KMeans(init='k-means++', max_iter=1000, random_state=RANDOM_STATE), data, k=(2, 11))"
   ]
  },
  {
   "cell_type": "code",
   "execution_count": null,
   "metadata": {},
   "outputs": [],
   "source": [
    "# Apply the silhouette method to find the optimal number of clusters.\n",
    "kelbow_visualizer(KMeans(init='k-means++', max_iter=1000, random_state=RANDOM_STATE),\n",
    "                  data, k=(2, 11), metric='silhouette')"
   ]
  },
  {
   "cell_type": "markdown",
   "metadata": {},
   "source": [
    "**Inference**\n",
    "\n",
    "* Too many clusters from the Elbow method - most of the groups contain few customers.\n",
    "* Let's keep it simple and use Silhouette score heuristics - k = 4.\n",
    "\n",
    "[Go to the top](#top)\n",
    "\n",
    "#### Fit K-Means with Optimal Clusters <a id='fit-kmeans'></a>\n",
    "\n",
    "Fit K-Means with the optimal number of clusters."
   ]
  },
  {
   "cell_type": "code",
   "execution_count": null,
   "metadata": {},
   "outputs": [],
   "source": [
    "kmeans = KMeans(n_clusters=4, init='k-means++', max_iter=1000, random_state=RANDOM_STATE).fit(data)\n",
    "kmeans_labels = kmeans.labels_"
   ]
  },
  {
   "cell_type": "markdown",
   "metadata": {},
   "source": [
    "[Go to the top](#top)\n",
    "\n",
    "#### Confirm the Optimal Clusters with Hierarchical Clustering <a id='clusters'></a>\n",
    "\n",
    "Let's confirm the optimal number of clusters with another statistical technique called **Hierarchical Clustering**."
   ]
  },
  {
   "cell_type": "code",
   "execution_count": null,
   "metadata": {},
   "outputs": [],
   "source": [
    "# Use the dendrogram to find the optimal number of clusters.\n",
    "plt.figure(figsize=(20, 10))\n",
    "dendrogram = sch.dendrogram(sch.linkage(data, method = 'ward')) # 'Ward' minimizes the within-cluster variance.\n",
    "plt.title('Dendrogram')\n",
    "plt.xlabel('Investments')\n",
    "plt.ylabel('Euclidean distances')\n",
    "plt.show()"
   ]
  },
  {
   "cell_type": "markdown",
   "metadata": {},
   "source": [
    "**Inference**\n",
    "\n",
    "* Too complicated results to make a conclusion.\n",
    "\n",
    "[Go to the top](#top)\n",
    "\n",
    "### Apply K-Medoids Clustering <a id='k-medoids'></a>\n",
    "\n",
    "Let's use K-Medoids, which is an alternative technique to centroid-based method for partitional clustering algorithms. This method is more robust for categorical data and data with outliers."
   ]
  },
  {
   "cell_type": "code",
   "execution_count": null,
   "metadata": {},
   "outputs": [],
   "source": [
    "# Apply the elbow method to find the optimal number of clusters.\n",
    "kelbow_visualizer(KMedoids(metric=\"manhattan\", max_iter=1000, random_state=RANDOM_STATE), data, k=(2, 11))"
   ]
  },
  {
   "cell_type": "code",
   "execution_count": null,
   "metadata": {},
   "outputs": [],
   "source": [
    "# Apply the silhouette method to find the optimal number of clusters.\n",
    "kelbow_visualizer(KMedoids(metric=\"manhattan\", max_iter=1000, random_state=RANDOM_STATE),\n",
    "                  data, k=(2, 11), metric='silhouette')"
   ]
  },
  {
   "cell_type": "markdown",
   "metadata": {},
   "source": [
    "**Inference**\n",
    "\n",
    "* Both Elbow and Silhouette methods give the same optimal number of clusters - k = 6.\n",
    "\n",
    "[Go to the top](#top)\n",
    "\n",
    "#### Fit K-Medoids with Optimal Clusters <a id='fit-kmedoids'></a>\n",
    "\n",
    "Fit K-Medoids with the optimal number of clusters."
   ]
  },
  {
   "cell_type": "code",
   "execution_count": null,
   "metadata": {},
   "outputs": [],
   "source": [
    "kmedoids = KMedoids(metric=\"manhattan\", n_clusters=6, max_iter=1000, random_state=RANDOM_STATE).fit(data)\n",
    "kmedoids_labels = kmedoids.labels_"
   ]
  },
  {
   "cell_type": "markdown",
   "metadata": {},
   "source": [
    "[Go to the top](#top)\n",
    "\n",
    "### Apply K-Prototypes Clustering <a id='k-prot'></a>\n",
    "\n",
    "This model can deal with numerical and categorical data, so we don't need to one-hot-encode the categorical features. We only need to apply the Yeo-Johnson transformation to the numerical data."
   ]
  },
  {
   "cell_type": "code",
   "execution_count": null,
   "metadata": {},
   "outputs": [],
   "source": [
    "# Create a copy of the initial df.\n",
    "kprot_data = df.copy()\n",
    "\n",
    "# Transform the numerical features.\n",
    "for c in df.select_dtypes(exclude='object').columns:\n",
    "    pt = PowerTransformer()\n",
    "    kprot_data[c] = pt.fit_transform(np.array(kprot_data[c]).reshape(-1, 1))"
   ]
  },
  {
   "cell_type": "code",
   "execution_count": null,
   "metadata": {},
   "outputs": [],
   "source": [
    "# In KPrototypes, we need to indicate which column indices are categorical using the categorical argument.\n",
    "# All others are assumed numerical.\n",
    "categorical_columns = df.columns.get_indexer(cat_feats).tolist()"
   ]
  },
  {
   "cell_type": "code",
   "execution_count": null,
   "metadata": {
    "scrolled": false
   },
   "outputs": [],
   "source": [
    "costs = []\n",
    "n_clusters = []\n",
    "clusters_assigned = []\n",
    "\n",
    "for k in tqdm(range(2, 11)):\n",
    "    try:\n",
    "        kproto = KPrototypes(n_clusters=k, init='Cao', n_jobs=-1, random_state=RANDOM_STATE)\n",
    "        clusters = kproto.fit_predict(kprot_data, categorical=categorical_columns)\n",
    "        costs.append(kproto.cost_)\n",
    "        n_clusters.append(k)\n",
    "        clusters_assigned.append(clusters)\n",
    "    except:\n",
    "        print(f\"Can't cluster with {k} clusters\")\n",
    "        \n",
    "fig = go.Figure(data=go.Scatter(x=n_clusters, y=costs))\n",
    "fig.update_xaxes(title_text='Number of clusters')\n",
    "fig.update_yaxes(title_text='Cost')\n",
    "fig.update_layout(title = \"The Elbow Method in K-Prototypes Clustering\")\n",
    "fig.show()"
   ]
  },
  {
   "cell_type": "markdown",
   "metadata": {},
   "source": [
    "**Inference**\n",
    "\n",
    "* Not an obvious elbow - let's use 6 clusters.\n",
    "\n",
    "[Go to the top](#top)\n",
    "\n",
    "#### Fit K-Prototypes with Optimal Clusters <a id='fit-kprot'></a>\n",
    "\n",
    "Fit K-Prototypes with the optimal number of clusters."
   ]
  },
  {
   "cell_type": "code",
   "execution_count": null,
   "metadata": {},
   "outputs": [],
   "source": [
    "kproto = KPrototypes(n_clusters=6, init='Cao', n_jobs=-1, random_state=RANDOM_STATE)\n",
    "kproto_clusters = kproto.fit_predict(kprot_data, categorical=categorical_columns)"
   ]
  },
  {
   "cell_type": "markdown",
   "metadata": {},
   "source": [
    "[Go to the top](#top)\n",
    "\n",
    "### Compare the Methods Visually <a id='compare'></a>\n",
    "\n",
    "We can evaluate visually the sets of clusters by colouring the dots of the UMAP embeddings from above and see which makes more sense.\n",
    "\n",
    "#### Check Visually K-Means <a id='check-vis-kmeans'></a>"
   ]
  },
  {
   "cell_type": "code",
   "execution_count": null,
   "metadata": {},
   "outputs": [],
   "source": [
    "fig, ax = plt.subplots()\n",
    "fig.set_size_inches((20, 10))\n",
    "scatter = ax.scatter(embedding[:, 0], embedding[:, 1], s=20, c=kmeans_labels, cmap='tab20b', alpha=0.5)\n",
    "\n",
    "# Produce a legend with the unique colors from the scatter.\n",
    "legend1 = ax.legend(*scatter.legend_elements(num=3),\n",
    "                    loc=\"lower left\", title=\"Classes\")\n",
    "ax.add_artist(legend1)\n",
    "plt.show()"
   ]
  },
  {
   "cell_type": "markdown",
   "metadata": {},
   "source": [
    "**Inference**\n",
    "\n",
    "* Classes are clearly distinquished.\n",
    "\n",
    "[Go to the top](#top)\n",
    "\n",
    "#### Check Visually K-Medoids <a id='check-vis-kmedoids'></a>"
   ]
  },
  {
   "cell_type": "code",
   "execution_count": null,
   "metadata": {},
   "outputs": [],
   "source": [
    "fig, ax = plt.subplots()\n",
    "fig.set_size_inches((20, 10))\n",
    "scatter = ax.scatter(embedding[:, 0], embedding[:, 1], s=20, c=kmedoids_labels, cmap='tab20b', alpha=0.5)\n",
    "\n",
    "# Produce a legend with the unique colors from the scatter.\n",
    "legend1 = ax.legend(*scatter.legend_elements(num=6),\n",
    "                    loc=\"lower left\", title=\"Classes\")\n",
    "ax.add_artist(legend1)\n",
    "plt.show()"
   ]
  },
  {
   "cell_type": "markdown",
   "metadata": {},
   "source": [
    "**Inference**\n",
    "\n",
    "* Not very clear distinct groups\n",
    "\n",
    "[Go to the top](#top)\n",
    "\n",
    "#### Check Visually K-Prototypes <a id='check-vis-kprot'></a>"
   ]
  },
  {
   "cell_type": "code",
   "execution_count": null,
   "metadata": {},
   "outputs": [],
   "source": [
    "fig, ax = plt.subplots()\n",
    "fig.set_size_inches((20, 10))\n",
    "scatter = ax.scatter(embedding[:, 0], embedding[:, 1], s=20, c=kproto_clusters, cmap='tab20b', alpha=0.5)\n",
    "\n",
    "# Produce a legend with the unique colors from the scatter.\n",
    "legend1 = ax.legend(*scatter.legend_elements(num=6),\n",
    "                    loc=\"lower left\", title=\"Classes\")\n",
    "ax.add_artist(legend1)\n",
    "plt.show()"
   ]
  },
  {
   "cell_type": "markdown",
   "metadata": {},
   "source": [
    "**Inference**\n",
    "\n",
    "* Not very clear distinct groups\n",
    "\n",
    "[Go to the top](#top)\n",
    "\n",
    "## Classify & Evaluate Clusters <a id='classify'></a>\n",
    "\n",
    "Another comparison that we can apply is to treat the clusters as labels and build a classification model on top. If the clusters are of high quality, the classification model will be able to predict them with high accuracy. At the same time, the models should use a variety of features to ensure that the clusters are not too simplistic.\n",
    "\n",
    "We will validate and evaluate the quality of clusters by:\n",
    "\n",
    "* The cross-validated F1 score\n",
    "* The informativness of clusters by **SHAP feature importances**\n",
    "\n",
    "### Classify & Evaluate K-Means Clusters <a id='classify-kmeans'></a>\n",
    "\n",
    "We will use the `LightGBM` as a classification model, since it can use categorical features and can easily provides the SHAP values for the trained models."
   ]
  },
  {
   "cell_type": "code",
   "execution_count": null,
   "metadata": {},
   "outputs": [],
   "source": [
    "# Create a copy of the initial df.\n",
    "lgbm_data = df.copy()\n",
    "\n",
    "# Set the objects to category.\n",
    "for c in lgbm_data.select_dtypes(include='object'):\n",
    "    lgbm_data[c] = lgbm_data[c].astype('category')"
   ]
  },
  {
   "cell_type": "code",
   "execution_count": null,
   "metadata": {},
   "outputs": [],
   "source": [
    "# Classify K-Means clusters.\n",
    "clf_km = LGBMClassifier(colsample_by_tree=0.8, random_state=RANDOM_STATE)\n",
    "cv_scores_km = cross_val_score(clf_km, lgbm_data, kmeans_labels, scoring='f1_weighted')\n",
    "print('The Cross-Validated F1-Weighted score for K-Means clusters is {}'.format(np.mean(cv_scores_km)))"
   ]
  },
  {
   "cell_type": "markdown",
   "metadata": {},
   "source": [
    "**Inference**\n",
    "\n",
    "* We get a high F1 score, which means that the customers are grouped in somewhat meaningful and distinguishable clusters.\n",
    "\n",
    "[Go to the top](#top)\n",
    "\n",
    "#### Check Feature Importances for K-Means Clusters <a id='kmeans-importances'></a>\n",
    "\n",
    "Let’s also investigate the feature importances to check if the classifier used all the information available to it. The bar chart below shows the mean absolute value of the SHAP values for each feature."
   ]
  },
  {
   "cell_type": "code",
   "execution_count": null,
   "metadata": {},
   "outputs": [],
   "source": [
    "clf_km.fit(lgbm_data, kmeans_labels)\n",
    "\n",
    "explainer_km = shap.TreeExplainer(clf_km)\n",
    "shap_values_km = explainer_km.shap_values(lgbm_data)\n",
    "\n",
    "shap.summary_plot(shap_values_km, lgbm_data, plot_type=\"bar\", plot_size=(15, 10))"
   ]
  },
  {
   "cell_type": "markdown",
   "metadata": {},
   "source": [
    "**Inference**\n",
    "\n",
    "* It seems that the classifier has used many features. This means that the model is quite informative.\n",
    "\n",
    "[Go to the top](#top)\n",
    "\n",
    "### Classify & Evaluate K-Medoids Clusters <a id='classify-kmedoids'></a>\n",
    "\n",
    "Let’s apply the same methodology to K-Medoids clusters to check if the classifier can use other features in grouping the customers."
   ]
  },
  {
   "cell_type": "code",
   "execution_count": null,
   "metadata": {},
   "outputs": [],
   "source": [
    "# Create a copy of the initial df.\n",
    "lgbm_data = df.copy()\n",
    "\n",
    "# Set the objects to category.\n",
    "for c in lgbm_data.select_dtypes(include='object'):\n",
    "    lgbm_data[c] = lgbm_data[c].astype('category')"
   ]
  },
  {
   "cell_type": "code",
   "execution_count": null,
   "metadata": {},
   "outputs": [],
   "source": [
    "# Classify K-Medoids clusters.\n",
    "clf_kmed = LGBMClassifier(colsample_by_tree=0.8, random_state=RANDOM_STATE)\n",
    "cv_scores_km = cross_val_score(clf_kmed, lgbm_data, kmedoids_labels, scoring='f1_weighted')\n",
    "print('The Cross-Validated F1-Weighted score for K-Medoids clusters is {}'.format(np.mean(cv_scores_km)))"
   ]
  },
  {
   "cell_type": "markdown",
   "metadata": {},
   "source": [
    "**Inference**\n",
    "\n",
    "* We get a low score.\n",
    "\n",
    "[Go to the top](#top)\n",
    "\n",
    "#### Check Feature Importances for K-Medoids Clusters <a id='kmedoids-importances'></a>\n",
    "\n",
    "Let’s also investigate the feature importances to check if the classifier used all the information available to it."
   ]
  },
  {
   "cell_type": "code",
   "execution_count": null,
   "metadata": {},
   "outputs": [],
   "source": [
    "clf_kmed.fit(lgbm_data, kmedoids_labels)\n",
    "\n",
    "explainer_kmed = shap.TreeExplainer(clf_kmed)\n",
    "shap_values_kmed = explainer_kmed.shap_values(lgbm_data)\n",
    "\n",
    "shap.summary_plot(shap_values_kmed, lgbm_data, plot_type=\"bar\", plot_size=(15, 10))"
   ]
  },
  {
   "cell_type": "markdown",
   "metadata": {},
   "source": [
    "**Inference**\n",
    "\n",
    "* It seems that the classifier used many features too.\n",
    "\n",
    "[Go to the top](#top)\n",
    "\n",
    "### Classify & Evaluate K-Prototypes Clusters <a id='classify-kprot'></a>\n",
    "\n",
    "Let’s apply the same methodology to K-Prototypes clusters to check if the classifier can use other features in grouping the customers."
   ]
  },
  {
   "cell_type": "code",
   "execution_count": null,
   "metadata": {},
   "outputs": [],
   "source": [
    "# Classify K-Means clusters.\n",
    "clf_kp = LGBMClassifier(colsample_by_tree=0.8, random_state=RANDOM_STATE)\n",
    "cv_scores_kp = cross_val_score(clf_kp, lgbm_data, kproto_clusters, scoring='f1_weighted')\n",
    "print('The Cross-Validated F1-Weighted score for K-Prototypes clusters is {}'.format(np.mean(cv_scores_kp)))"
   ]
  },
  {
   "cell_type": "markdown",
   "metadata": {},
   "source": [
    "**Inference**\n",
    "\n",
    "* We get a lower score than K-Means.\n",
    "\n",
    "[Go to the top](#top)\n",
    "\n",
    "#### Check Feature Importances for K-Prototypes Clusters <a id='kprot-importances'></a>\n",
    "\n",
    "See the feature importances to check if the classifier used all the information available to it."
   ]
  },
  {
   "cell_type": "code",
   "execution_count": null,
   "metadata": {},
   "outputs": [],
   "source": [
    "clf_kp.fit(lgbm_data, kproto_clusters)\n",
    "\n",
    "explainer_kp = shap.TreeExplainer(clf_kp)\n",
    "shap_values_kp = explainer_kp.shap_values(lgbm_data)\n",
    "\n",
    "shap.summary_plot(shap_values_kp, lgbm_data, plot_type=\"bar\", plot_size=(15, 10))"
   ]
  },
  {
   "cell_type": "markdown",
   "metadata": {},
   "source": [
    "**Inference**\n",
    "\n",
    "* It seems that the classifier used many features too.\n",
    "\n",
    "[Go to the top](#top)\n",
    "\n",
    "## Group Customers <a id='segmentation'></a>\n",
    "\n",
    "Let's see now the number of segments and the number of customers in each segment in more detail. First, we need to assign every customer to the clusters. We will use the results from only K-Means, which gave the best results.\n",
    "\n",
    "### K-Means Clusters <a id='k-means-clusters'></a>"
   ]
  },
  {
   "cell_type": "code",
   "execution_count": null,
   "metadata": {},
   "outputs": [],
   "source": [
    "# Create a column for the clusters.\n",
    "lgbm_data = lgbm_data.assign(Cluster=pd.Series(kmeans_labels).values)\n",
    "lgbm_data.head(1)"
   ]
  },
  {
   "cell_type": "code",
   "execution_count": null,
   "metadata": {},
   "outputs": [],
   "source": [
    "# Show counts for each cluster.\n",
    "fig = px.bar(lgbm_data.groupby('Cluster').count().reset_index().sort_values(by=['Cluster']),\n",
    "             x='Cluster',\n",
    "             y=lgbm_data.groupby('Cluster').count().reset_index().sort_values(by=['Cluster'])['asset_type'],\n",
    "             text='Cluster',opacity=0.6)\n",
    "fig.update_layout(title_text=\"Distribution of K-Means Clusters\")\n",
    "fig.update_xaxes(showgrid=False, title_text=\"Clusters\")\n",
    "fig.update_yaxes(showgrid=False, title_text=\"Number of Customers\")\n",
    "fig.update_yaxes(showticklabels=True, automargin=True)\n",
    "fig.show()\n",
    "\n",
    "# Show descriptive stats for each cluster.\n",
    "lgbm_data_stats = lgbm_data.groupby(by=['Cluster']).describe(include='all').T\n",
    "lgbm_data_stats"
   ]
  },
  {
   "cell_type": "markdown",
   "metadata": {},
   "source": [
    "**Inference**\n",
    "\n",
    "* The bar plot shows that there is 2 major clusters with about 50 customers each and 2 smaller ones.\n",
    "\n",
    "[Go to the top](#top)\n",
    "\n",
    "### Export K-Means Clusters <a id='export-k-means'></a>\n",
    "\n",
    "Export the datasets."
   ]
  },
  {
   "cell_type": "code",
   "execution_count": null,
   "metadata": {},
   "outputs": [],
   "source": [
    "lgbm_data.to_csv(\"k-means-clusters.csv\")\n",
    "lgbm_data_stats.to_csv(\"k-means-clusters-stats.csv\")"
   ]
  },
  {
   "cell_type": "markdown",
   "metadata": {},
   "source": [
    "[Go to the top](#top)\n",
    "\n",
    "### EDA of K-Means Clusters <a id='eda-k-means'></a>\n",
    "\n",
    "Do a simple EDA of the K-Means data."
   ]
  },
  {
   "cell_type": "code",
   "execution_count": null,
   "metadata": {},
   "outputs": [],
   "source": [
    "# Make a copy of the initial data.\n",
    "eda_kmeans = df.copy().reset_index()\n",
    "\n",
    "# One-hot-encode the categorical features.\n",
    "eda_kmeans = pd.get_dummies(eda_kmeans)\n",
    "\n",
    "# Add the clusters to the data.\n",
    "eda_kmeans['Cluster'] = kmeans_labels\n",
    "\n",
    "# Unpivot from wide to long format.\n",
    "eda_kmeans = eda_kmeans.melt(id_vars=['Cluster'])\n",
    "\n",
    "g = sns.FacetGrid(eda_kmeans.groupby(['Cluster', 'variable']).mean().reset_index(),\n",
    "                  col='variable', hue='Cluster', col_wrap=14, height=5, sharey=False)\n",
    "g = g.map(plt.bar, 'Cluster', 'value').set_titles(\"{col_name}\")"
   ]
  },
  {
   "cell_type": "markdown",
   "metadata": {},
   "source": [
    "**Inference**\n",
    "\n",
    "* There are too many variables to check, but if we see carefully, we maybe identify distinct segments with clear business implications.\n",
    "\n",
    "[Go to the top](#top)"
   ]
  }
 ],
 "metadata": {
  "kernelspec": {
   "display_name": "Python 3",
   "language": "python",
   "name": "python3"
  },
  "language_info": {
   "codemirror_mode": {
    "name": "ipython",
    "version": 3
   },
   "file_extension": ".py",
   "mimetype": "text/x-python",
   "name": "python",
   "nbconvert_exporter": "python",
   "pygments_lexer": "ipython3",
   "version": "3.8.5"
  }
 },
 "nbformat": 4,
 "nbformat_minor": 2
}
